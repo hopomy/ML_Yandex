{
 "cells": [
  {
   "cell_type": "code",
   "execution_count": 1,
   "id": "7b9600d7",
   "metadata": {},
   "outputs": [],
   "source": [
    "import numpy as np\n",
    "\n",
    "class LaplaceDistribution:    \n",
    "    @staticmethod\n",
    "    def mean_abs_deviation_from_median(x: np.ndarray):\n",
    "        '''\n",
    "        Args:\n",
    "        - x: A numpy array of shape (n_objects, n_features) containing the data\n",
    "          consisting of num_train samples each of dimension D.\n",
    "        '''\n",
    "        ####\n",
    "        # Do not change the class outside of this block\n",
    "        # Your code here\n",
    "        median = np.median(x)\n",
    "        abs_deviation = np.abs(x - median)\n",
    "        return np.mean(abs_deviation)\n",
    "        ####\n",
    "\n",
    "    def __init__(self, features):\n",
    "        '''\n",
    "        Args:\n",
    "            feature: A numpy array of shape (n_objects, n_features). Every column represents all available values for the selected feature.\n",
    "        '''\n",
    "        ####\n",
    "        # Do not change the class outside of this block\n",
    "        self.loc = np.mean(features)\n",
    "        self.scale = 0.5 * self.mean_abs_deviation_from_median(features)\n",
    "        ####\n",
    "\n",
    "\n",
    "    def logpdf(self, values):\n",
    "        '''\n",
    "        Returns logarithm of probability density at every input value.\n",
    "        Args:\n",
    "            values: A numpy array of shape (n_objects, n_features). Every column represents all available values for the selected feature.\n",
    "        '''\n",
    "        ####\n",
    "        # Do not change the class outside of this block\n",
    "        return -np.log(2 * self.scale) - np.abs(values - self.loc) / self.scale\n",
    "        ####\n",
    "        \n",
    "    \n",
    "    def pdf(self, values):\n",
    "        '''\n",
    "        Returns probability density at every input value.\n",
    "        Args:\n",
    "            values: A numpy array of shape (n_objects, n_features). Every column represents all available values for the selected feature.\n",
    "        '''\n",
    "        return np.exp(self.logpdf(value))"
   ]
  },
  {
   "cell_type": "code",
   "execution_count": null,
   "id": "87ecde7f",
   "metadata": {},
   "outputs": [],
   "source": []
  }
 ],
 "metadata": {
  "kernelspec": {
   "display_name": "Python 3 (ipykernel)",
   "language": "python",
   "name": "python3"
  },
  "language_info": {
   "codemirror_mode": {
    "name": "ipython",
    "version": 3
   },
   "file_extension": ".py",
   "mimetype": "text/x-python",
   "name": "python",
   "nbconvert_exporter": "python",
   "pygments_lexer": "ipython3",
   "version": "3.10.9"
  }
 },
 "nbformat": 4,
 "nbformat_minor": 5
}

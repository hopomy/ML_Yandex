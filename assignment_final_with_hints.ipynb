{
 "cells": [
  {
   "cell_type": "markdown",
   "metadata": {
    "id": "ErGqtdS9_DxV"
   },
   "source": [
    "## Финальное соревнование\n",
    "\n",
    "##### Автор: [Радослав Нейчев](https://www.linkedin.com/in/radoslav-neychev/), @neychev"
   ]
  },
  {
   "cell_type": "markdown",
   "metadata": {
    "id": "9_pUCX4a_DxX"
   },
   "source": [
    "В данном задании вас ждет неизвестная зависимость. Ваша основная задача: **построить две лучших модели**, минимизирующих среднеквадратичную ошибку (MSE):\n",
    "1. На первую модель не налагается ограничений.\n",
    "2. Вторая модель должна быть **линейной**, т.е. представлять собой линейную комбинацию признаков плюс свободный член: $\\boldsymbol{w}^{\\top}\\boldsymbol{x} + b$. При этом __вы можете использовать базовые математические операции для преобразования признаков__: np.exp, np.log, np.pow (полный список доступен в [документации](https://numpy.org/doc/stable/reference/routines.math.html)), а также линейные операции над ними (сумма, умножение на число и пр.). Для преобразования признаков вам будет необходимо написать функцию `my_transformation`. __Кол-во параметров (весов) используемых второй моделью не должно превышать 15 (включая свободный член).__\n",
    "\n",
    "Настоятельно рекомендуем написать код \"с нуля\", лишь поглядывая на готовые примеры, а не просто \"скопировать-вставить\". Это поможет вам в будущем писать код более уверенно"
   ]
  },
  {
   "cell_type": "code",
   "execution_count": 7,
   "metadata": {
    "id": "F1w-XsSp_DxY"
   },
   "outputs": [],
   "source": [
    "import os\n",
    "import json\n",
    "import pandas as pd\n",
    "\n",
    "import numpy as np\n",
    "from matplotlib import pyplot as plt\n",
    "from sklearn.linear_model import Ridge\n",
    "from sklearn.ensemble import RandomForestRegressor\n",
    "from sklearn.metrics import mean_squared_error\n",
    "from sklearn.model_selection import train_test_split"
   ]
  },
  {
   "cell_type": "markdown",
   "metadata": {
    "id": "WR8GKGpz_DxY"
   },
   "source": [
    "Загрузка данных происходит ниже. Если она не срабатывает, самостоятельно скачайте файл `hw_final_open_data.npy` и положите его в ту же директорию, что и ноутбук."
   ]
  },
  {
   "cell_type": "code",
   "execution_count": 2,
   "metadata": {
    "colab": {
     "base_uri": "https://localhost:8080/"
    },
    "id": "iTe4YK13_DxZ",
    "outputId": "190c357a-315f-46af-804b-1824bedab6b2"
   },
   "outputs": [
    {
     "name": "stdout",
     "output_type": "stream",
     "text": [
      "--2023-11-29 22:49:23--  https://raw.githubusercontent.com/girafe-ai/ml-course/23f_yandex_ml_trainings/homeworks/assignment_final/hw_final_open_data.npy\n",
      "Распознаётся raw.githubusercontent.com (raw.githubusercontent.com)… 185.199.108.133, 185.199.111.133, 185.199.110.133, ...\n",
      "Подключение к raw.githubusercontent.com (raw.githubusercontent.com)|185.199.108.133|:443... соединение установлено.\n",
      "HTTP-запрос отправлен. Ожидание ответа… 200 OK\n",
      "Длина: 44928 (44K) [application/octet-stream]\n",
      "Сохранение в: «hw_final_open_data.npy»\n",
      "\n",
      "hw_final_open_data. 100%[===================>]  43,88K  --.-KB/s    за 0,07s   \n",
      "\n",
      "2023-11-29 22:49:24 (633 KB/s) - «hw_final_open_data.npy» сохранён [44928/44928]\n",
      "\n",
      "--2023-11-29 22:49:24--  https://raw.githubusercontent.com/girafe-ai/ml-course/23f_yandex_ml_trainings/homeworks/assignment_final/hw_final_open_target.npy\n",
      "Распознаётся raw.githubusercontent.com (raw.githubusercontent.com)… 185.199.111.133, 185.199.110.133, 185.199.108.133, ...\n",
      "Подключение к raw.githubusercontent.com (raw.githubusercontent.com)|185.199.111.133|:443... соединение установлено.\n",
      "HTTP-запрос отправлен. Ожидание ответа… 200 OK\n",
      "Длина: 6528 (6,4K) [application/octet-stream]\n",
      "Сохранение в: «hw_final_open_target.npy»\n",
      "\n",
      "hw_final_open_targe 100%[===================>]   6,38K  --.-KB/s    за 0,001s  \n",
      "\n",
      "2023-11-29 22:49:25 (12,3 MB/s) - «hw_final_open_target.npy» сохранён [6528/6528]\n",
      "\n"
     ]
    }
   ],
   "source": [
    "!wget https://raw.githubusercontent.com/girafe-ai/ml-course/23f_yandex_ml_trainings/homeworks/assignment_final/hw_final_open_data.npy -O hw_final_open_data.npy\n",
    "!wget https://raw.githubusercontent.com/girafe-ai/ml-course/23f_yandex_ml_trainings/homeworks/assignment_final/hw_final_open_target.npy -O hw_final_open_target.npy"
   ]
  },
  {
   "cell_type": "code",
   "execution_count": 3,
   "metadata": {
    "id": "QOOhB3hA_DxZ"
   },
   "outputs": [],
   "source": [
    "assert os.path.exists('hw_final_open_data.npy'), 'Please, download `hw_final_open_data.npy` and place it in the working directory'\n",
    "assert os.path.exists('hw_final_open_target.npy'), 'Please, download `hw_final_open_target.npy` and place it in the working directory'\n",
    "data = np.load('hw_final_open_data.npy', allow_pickle=False)\n",
    "target = np.load('hw_final_open_target.npy', allow_pickle=False)"
   ]
  },
  {
   "cell_type": "markdown",
   "metadata": {
    "id": "OrNLsI_j_DxZ"
   },
   "source": [
    "Разбивка на `train` и `val` опциональна и сделана для вашего удобства."
   ]
  },
  {
   "cell_type": "code",
   "execution_count": 4,
   "metadata": {
    "id": "vOfrc3pH_DxZ"
   },
   "outputs": [],
   "source": [
    "train_x, valid_x, train_y, valid_y = train_test_split(data, target, test_size=0.3)"
   ]
  },
  {
   "cell_type": "markdown",
   "metadata": {
    "id": "5yhrRSTl_DxZ"
   },
   "source": [
    "### Модель №1\n",
    "Напоминаем, в первой части задания ваша основная задача – получить наилучший результат без ограничений на модель. Сдаваться будут только предсказания модели.\n",
    "\n",
    "Пример с использованием Random Forest доступен ниже."
   ]
  },
  {
   "cell_type": "code",
   "execution_count": 15,
   "metadata": {},
   "outputs": [],
   "source": [
    "from catboost import CatBoostRegressor, Pool\n",
    "from sklearn.model_selection import KFold"
   ]
  },
  {
   "cell_type": "code",
   "execution_count": 21,
   "metadata": {},
   "outputs": [
    {
     "name": "stdout",
     "output_type": "stream",
     "text": [
      "0:\tlearn: 2.2018052\ttest: 2.1873712\tbest: 2.1873712 (0)\ttotal: 58.2ms\tremaining: 3m 23s\n",
      "500:\tlearn: 0.2978833\ttest: 0.3123690\tbest: 0.3123631 (496)\ttotal: 80.1ms\tremaining: 479ms\n",
      "Stopped by overfitting detector  (50 iterations wait)\n",
      "\n",
      "bestTest = 0.3113929563\n",
      "bestIteration = 616\n",
      "\n",
      "Shrink model to first 617 iterations.\n",
      "0:\tlearn: 2.2166045\ttest: 2.1639062\tbest: 2.1639062 (0)\ttotal: 32us\tremaining: 113ms\n",
      "500:\tlearn: 0.2936897\ttest: 0.3197448\tbest: 0.3196659 (476)\ttotal: 16.5ms\tremaining: 98.6ms\n",
      "1000:\tlearn: 0.2840377\ttest: 0.3164876\tbest: 0.3163592 (983)\ttotal: 34.8ms\tremaining: 86.8ms\n",
      "Stopped by overfitting detector  (50 iterations wait)\n",
      "\n",
      "bestTest = 0.3163592438\n",
      "bestIteration = 983\n",
      "\n",
      "Shrink model to first 984 iterations.\n",
      "0:\tlearn: 2.1682640\ttest: 2.2572489\tbest: 2.2572489 (0)\ttotal: 30us\tremaining: 107ms\n",
      "500:\tlearn: 0.3047301\ttest: 0.3010903\tbest: 0.3010790 (496)\ttotal: 16.5ms\tremaining: 98.7ms\n",
      "Stopped by overfitting detector  (50 iterations wait)\n",
      "\n",
      "bestTest = 0.3010710798\n",
      "bestIteration = 502\n",
      "\n",
      "Shrink model to first 503 iterations.\n",
      "mean RMSE score ---------> 0.3032\n"
     ]
    }
   ],
   "source": [
    "n_splits = 3  # Число фолдов. Оптимально 3, 5 или 10\n",
    "clfs = [] # Тут будем сохранять модели\n",
    "scores = [] # Тут будем хранить скоры валидационных фолдов\n",
    "\n",
    "# параметры валидации, обучение будет идти на n_splits фолдах\n",
    "X = pd.DataFrame(data)\n",
    "y = pd.DataFrame(target)\n",
    "\n",
    "kf = KFold(n_splits=n_splits, shuffle=True, random_state=7575)\n",
    "for train_index, test_index in kf.split(X):\n",
    "\n",
    "    X_train, X_test = X.iloc[train_index], X.iloc[test_index]\n",
    "    y_train, y_test = y.iloc[train_index], y.iloc[test_index]\n",
    "\n",
    "    # Специальный класс для ускорения обучения \n",
    "    train_dataset = Pool(data=X_train, label=y_train)\n",
    "    eval_dataset = Pool(data=X_test, label=y_test)\n",
    "\n",
    "    clf = CatBoostRegressor(\n",
    "        depth=4,\n",
    "        iterations=3500,\n",
    "        learning_rate=0.06,\n",
    "        loss_function=\"RMSE\",  # MultiLogloss\n",
    "        eval_metric = 'RMSE',  #F1:macro / AUC:hints=skip_train~false\n",
    "        \n",
    "        # Главная фишка катбуста - работа с категориальными признаками\n",
    "        # ignored_features = ignored_features,\n",
    "        \n",
    "        # Регуляризация и ускорение\n",
    "        colsample_bylevel=0.098,\n",
    "        subsample=0.95,\n",
    "        l2_leaf_reg=9,\n",
    "        min_data_in_leaf=243,\n",
    "        max_bin=187,\n",
    "        random_strength=1,\n",
    "        \n",
    "        # Параметры скорения\n",
    "        task_type=\"CPU\",    \n",
    "        thread_count=-1,\n",
    "        bootstrap_type=\"Bernoulli\", \n",
    "        \n",
    "        # Важное!\n",
    "        random_seed=7575,\n",
    "        early_stopping_rounds=50)\n",
    "\n",
    "    clfs.append(clf)\n",
    "\n",
    "    clf.fit(\n",
    "        train_dataset,\n",
    "        eval_set=eval_dataset,\n",
    "        verbose=500,\n",
    "        use_best_model=True,\n",
    "        plot=False)\n",
    "\n",
    "    scores.append(np.mean([v for k, v in clf.best_score_[\"validation\"].items() if \"RMSE\" in k], dtype=\"float16\"))\n",
    "    # scores.append(clf.best_score_['validation']['MultiClass'])\n",
    "    # clf.save_model(\"../tmp_data/cool_catboost_model_{}_deep\".format(n))\n",
    "\n",
    "assert len(clfs) == n_splits\n",
    "print(\"mean RMSE score --------->\", np.mean(scores, dtype=\"float16\") - np.std(scores, dtype=\"float16\"))"
   ]
  },
  {
   "cell_type": "markdown",
   "metadata": {
    "id": "KPe4GnMZ_Dxa"
   },
   "source": [
    "##### Сдача первой части соревнования\n",
    "Загрузите файл `hw_final_closed_data.npy` (ссылка есть на странице с заданием). Если вы используете sklearn-совместимую модель, для генерации посылки вы можете воспользоваться функцией `get_predictions`. В ином случае перепишите функцию для вашей модели и запустите код под следующей ячейкой для генерации посылки."
   ]
  },
  {
   "cell_type": "code",
   "execution_count": 23,
   "metadata": {
    "colab": {
     "base_uri": "https://localhost:8080/"
    },
    "id": "PGOEaipG_Dxb",
    "outputId": "7b615e73-a0ee-41bb-8dae-0e50c4038fb0"
   },
   "outputs": [
    {
     "name": "stdout",
     "output_type": "stream",
     "text": [
      "--2023-11-29 23:13:22--  https://raw.githubusercontent.com/girafe-ai/ml-course/23f_yandex_ml_trainings/homeworks/assignment_final/hw_final_closed_data.npy\n",
      "Распознаётся raw.githubusercontent.com (raw.githubusercontent.com)… 185.199.110.133, 185.199.108.133, 185.199.111.133, ...\n",
      "Подключение к raw.githubusercontent.com (raw.githubusercontent.com)|185.199.110.133|:443... соединение установлено.\n",
      "HTTP-запрос отправлен. Ожидание ответа… 200 OK\n",
      "Длина: 11328 (11K) [application/octet-stream]\n",
      "Сохранение в: «hw_final_closed_data.npy»\n",
      "\n",
      "hw_final_closed_dat 100%[===================>]  11,06K  --.-KB/s    за 0,004s  \n",
      "\n",
      "2023-11-29 23:13:22 (2,85 MB/s) - «hw_final_closed_data.npy» сохранён [11328/11328]\n",
      "\n"
     ]
    }
   ],
   "source": [
    "!wget https://raw.githubusercontent.com/girafe-ai/ml-course/23f_yandex_ml_trainings/homeworks/assignment_final/hw_final_closed_data.npy -O hw_final_closed_data.npy"
   ]
  },
  {
   "cell_type": "code",
   "execution_count": 24,
   "metadata": {
    "id": "KyLD_D4Q_Dxb"
   },
   "outputs": [],
   "source": [
    "assert os.path.exists('hw_final_closed_data.npy'), 'Please, download `hw_final_closed_data.npy` and place it in the working directory'\n",
    "closed_data = np.load('hw_final_closed_data.npy', allow_pickle=False)"
   ]
  },
  {
   "cell_type": "markdown",
   "metadata": {
    "id": "LpP3y2UM_Dxb"
   },
   "source": [
    "Если необходимо, преобразуйте данные. Преобразованную матрицу объект-признак сохраните в переменную `closed_data`."
   ]
  },
  {
   "cell_type": "code",
   "execution_count": null,
   "metadata": {
    "id": "A4WvkcPh_Dxb"
   },
   "outputs": [],
   "source": [
    "# optional transformations"
   ]
  },
  {
   "cell_type": "code",
   "execution_count": 25,
   "metadata": {
    "id": "ihcAVizA_Dxb"
   },
   "outputs": [],
   "source": [
    "def get_predictions(model, eval_data, step=10):\n",
    "    predicted_values = model.predict(eval_data)\n",
    "    return predicted_values"
   ]
  },
  {
   "cell_type": "markdown",
   "metadata": {
    "id": "1AD83l6K_Dxb"
   },
   "source": [
    "Обращаем ваше внимание, предсказания округляются до сотых!"
   ]
  },
  {
   "cell_type": "code",
   "execution_count": 28,
   "metadata": {
    "id": "FfC86BG4_Dxb"
   },
   "outputs": [],
   "source": [
    "predicted_values = np.round(get_predictions(model=clf, eval_data=closed_data), 2)\n",
    "\n",
    "assert predicted_values.shape == (closed_data.shape[0], ) # predictions should be just one-dimensional array"
   ]
  },
  {
   "cell_type": "code",
   "execution_count": 29,
   "metadata": {
    "colab": {
     "base_uri": "https://localhost:8080/"
    },
    "id": "ZWf3TD-x_Dxb",
    "outputId": "cd143a9c-11f7-4807-aa19-781ea832efb2"
   },
   "outputs": [
    {
     "name": "stdout",
     "output_type": "stream",
     "text": [
      "File saved to `submission_dict_final_p01.npy`\n"
     ]
    }
   ],
   "source": [
    "# do not change the code in the block below\n",
    "# __________start of block__________\n",
    "def float_list_to_comma_separated_str(_list):\n",
    "    _list = list(np.round(np.array(_list), 2))\n",
    "    return ','.join([str(x) for x in _list])\n",
    "\n",
    "submission_dict = {\n",
    "    'predictions': float_list_to_comma_separated_str(predicted_values)\n",
    "}\n",
    "with open('submission_dict_final_p01.json', 'w') as iofile:\n",
    "    json.dump(submission_dict, iofile)\n",
    "\n",
    "print('File saved to `submission_dict_final_p01.npy`')\n",
    "# __________end of block__________"
   ]
  },
  {
   "cell_type": "markdown",
   "metadata": {
    "id": "JqseUTZo_Dxb"
   },
   "source": [
    "\n",
    "\n",
    "\n",
    "\n",
    "### Модель №2\n",
    "Функция `my_transformation` принимает на вход матрицу объект-признак (`numpy.ndarray` типа `np.float`) и преобразует ее в новую матрицу. Данная функция может использовать только numpy-операции, а также арифметические действия.\n",
    "\n",
    "Для примера доступна функция ниже. Она лишь добавляет новый признак, представляющий собой произведение первого и второго исходных признаков (считая с нуля)."
   ]
  },
  {
   "cell_type": "code",
   "execution_count": 30,
   "metadata": {
    "id": "UBLSd32C_Dxc"
   },
   "outputs": [],
   "source": [
    "def my_transformation(feature_matrix: np.ndarray):\n",
    "    new_feature_matrix = np.zeros((feature_matrix.shape[0], feature_matrix.shape[1]+1))\n",
    "    new_feature_matrix[:, :feature_matrix.shape[1]] = feature_matrix\n",
    "    new_feature_matrix[:, -1] = feature_matrix[:, 0] * feature_matrix[:, 1]\n",
    "    return new_feature_matrix"
   ]
  },
  {
   "cell_type": "code",
   "execution_count": 31,
   "metadata": {
    "id": "0mqMrruk_Dxc"
   },
   "outputs": [],
   "source": [
    "transformed_train_x = my_transformation(train_x)"
   ]
  },
  {
   "cell_type": "code",
   "execution_count": 32,
   "metadata": {
    "colab": {
     "base_uri": "https://localhost:8080/"
    },
    "id": "lkgrLGCe_Dxc",
    "outputId": "52777127-349a-46d8-b2b5-00d4cda63ab8"
   },
   "outputs": [
    {
     "name": "stdout",
     "output_type": "stream",
     "text": [
      "train mse =\t 0.09025\n",
      "validation mse = 0.09104\n"
     ]
    }
   ],
   "source": [
    "lr = Ridge()\n",
    "lr.fit(transformed_train_x, train_y)\n",
    "\n",
    "print(\n",
    "    f'train mse =\\t {mean_squared_error(lr.predict(transformed_train_x), train_y):.5f}',\n",
    "    f'validation mse = {mean_squared_error(lr.predict(my_transformation(valid_x)), valid_y):.5f}',\n",
    "    sep='\\n'\n",
    ")"
   ]
  },
  {
   "cell_type": "markdown",
   "metadata": {
    "id": "imM-gD6X_Dxc"
   },
   "source": [
    "Обращаем ваше внимание, что параметры линейной модели будут округляться до __четырех знаков после запятой__. Это не должно сильно повлиять на качество предсказаний:"
   ]
  },
  {
   "cell_type": "code",
   "execution_count": 33,
   "metadata": {
    "id": "4OxT1KTO_Dxc"
   },
   "outputs": [],
   "source": [
    "original_predictions = lr.predict(transformed_train_x)\n",
    "rounded_predictions = transformed_train_x.dot(np.round(lr.coef_, 4)) + np.round(lr.intercept_, 4)\n",
    "\n",
    "\n",
    "assert np.allclose(original_predictions, rounded_predictions, atol=1e-3)"
   ]
  },
  {
   "cell_type": "markdown",
   "metadata": {
    "id": "nNVvn682_Dxc"
   },
   "source": [
    "Параметры вашей модели:"
   ]
  },
  {
   "cell_type": "code",
   "execution_count": 34,
   "metadata": {
    "colab": {
     "base_uri": "https://localhost:8080/"
    },
    "id": "8NNO4nJg_Dxc",
    "outputId": "f43cf181-da51-4c33-e62d-500427cf149f"
   },
   "outputs": [
    {
     "name": "stdout",
     "output_type": "stream",
     "text": [
      "w = [0.0128, 0.4321, -0.0, 0.6326, 0.0814, 1.3947, -0.0, -0.2555]\n",
      "b = 1.4962\n"
     ]
    }
   ],
   "source": [
    "w_list = list(np.round(lr.coef_, 4))\n",
    "print(f'w = {list(np.round(lr.coef_, 4))}\\nb = {np.round(lr.intercept_, 4)}')"
   ]
  },
  {
   "cell_type": "markdown",
   "metadata": {
    "id": "_tMW1dcd_Dxc"
   },
   "source": [
    "Напоминаем, ваша модель не должна использовать более 15 параметров (14 весов плюс свободный член)."
   ]
  },
  {
   "cell_type": "code",
   "execution_count": 35,
   "metadata": {
    "id": "LC_tPY9t_Dxc"
   },
   "outputs": [],
   "source": [
    "assert len(w_list) + 1 <= 15"
   ]
  },
  {
   "cell_type": "markdown",
   "metadata": {
    "id": "Q5x4-u3J_Dxc"
   },
   "source": [
    "##### Сдача второй части соревнования\n",
    "Для сдачи вам достаточно отправить функцию `my_transformation` и параметры вашей модели в контест в задачу №2. Пример посылки доступен ниже"
   ]
  },
  {
   "cell_type": "code",
   "execution_count": 36,
   "metadata": {
    "id": "y7_7Eahh_Dxc"
   },
   "outputs": [],
   "source": [
    "# __________example_submission_start__________\n",
    "\n",
    "def my_transformation(feature_matrix: np.ndarray):\n",
    "    new_feature_matrix = np.zeros((feature_matrix.shape[0], feature_matrix.shape[1]+1))\n",
    "    new_feature_matrix[:, :feature_matrix.shape[1]] = feature_matrix\n",
    "    new_feature_matrix[:, -1] = feature_matrix[:, 0\n",
    "    ] * feature_matrix[:, 1]\n",
    "    return new_feature_matrix\n",
    "\n",
    "w_submission = [-0.0027, -0.2637, 0.0, -0.1134, -0.0165, -0.9329, 0.0, 0.1293]\n",
    "b_submission = 1.1312\n",
    "# __________example_submission_end__________"
   ]
  },
  {
   "cell_type": "markdown",
   "metadata": {
    "id": "7SReYwcb_Dxc"
   },
   "source": [
    "На этом задание завершено. Поздравляем!"
   ]
  },
  {
   "cell_type": "markdown",
   "metadata": {
    "id": "qQtrbRbiBs6X"
   },
   "source": []
  },
  {
   "cell_type": "markdown",
   "metadata": {
    "id": "ndHKHkNAB2Kx"
   },
   "source": [
    "### Идеи, заметки, hint-ы\n",
    "\n",
    "1. random_state - https://scikit-learn.ru/10-3-controlling-randomness/\n",
    "2. Графики для анализа фичей (вид зависимости таргета от фичей и их комбинаций) + корреляции признаков друг с другом - https://www.kaggle.com/code/prashant111/comprehensive-guide-on-feature-selection\n",
    "3.Нормализация/стандартизация данных - https://scikit-learn.org/stable/modules/generated/sklearn.preprocessing.StandardScaler.html без дата ликов + посмотреть на аномалии в таргете и фичах\n",
    "4. XGBoost - https://xgboost.readthedocs.io/en/stable/ + shap values - https://shap.readthedocs.io/en/latest/example_notebooks/overviews/An%20introduction%20to%20explainable%20AI%20with%20Shapley%20values.html\n",
    "для важности признаков и предпосылок\n",
    "5. Подумайте над методами оптимизации гиперпараметров помимо GridSearchCV\n",
    "6. Подумать на stacking-ом в пункте 1 (какие модельки взят?)\n",
    "7. Как отбирать топ фичей после генерации новых? точно не Brute-force - https://dataaspirant.com/stepwise-regression/"
   ]
  },
  {
   "cell_type": "code",
   "execution_count": null,
   "metadata": {
    "id": "y4aKi-Vzc6ar"
   },
   "outputs": [],
   "source": []
  }
 ],
 "metadata": {
  "colab": {
   "provenance": []
  },
  "kernelspec": {
   "display_name": "Python 3 (ipykernel)",
   "language": "python",
   "name": "python3"
  },
  "language_info": {
   "codemirror_mode": {
    "name": "ipython",
    "version": 3
   },
   "file_extension": ".py",
   "mimetype": "text/x-python",
   "name": "python",
   "nbconvert_exporter": "python",
   "pygments_lexer": "ipython3",
   "version": "3.10.9"
  }
 },
 "nbformat": 4,
 "nbformat_minor": 1
}
